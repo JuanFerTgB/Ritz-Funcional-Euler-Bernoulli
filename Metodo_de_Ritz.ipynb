{
  "nbformat": 4,
  "nbformat_minor": 0,
  "metadata": {
    "colab": {
      "provenance": [],
      "authorship_tag": "ABX9TyO8ikC5GTas+8AWTWz3yvfp",
      "include_colab_link": true
    },
    "kernelspec": {
      "name": "python3",
      "display_name": "Python 3"
    },
    "language_info": {
      "name": "python"
    }
  },
  "cells": [
    {
      "cell_type": "markdown",
      "metadata": {
        "id": "view-in-github",
        "colab_type": "text"
      },
      "source": [
        "<a href=\"https://colab.research.google.com/github/JuanFerTgB/Ritz-Funcional-Euler-Bernoulli/blob/main/Metodo_de_Ritz.ipynb\" target=\"_parent\"><img src=\"https://colab.research.google.com/assets/colab-badge.svg\" alt=\"Open In Colab\"/></a>"
      ]
    },
    {
      "cell_type": "code",
      "execution_count": 289,
      "metadata": {
        "id": "r8xwDsbR4u0F"
      },
      "outputs": [],
      "source": [
        "import numpy as np\n",
        "import matplotlib.pyplot as plt\n",
        "from sympy import *\n",
        "\n",
        "init_printing()\n",
        "\n",
        "\n"
      ]
    },
    {
      "cell_type": "code",
      "source": [
        " #Configuracion graficos\n",
        "gris = '#757575'\n",
        "plt.rcParams[\"mathtext.fontset\"] = \"cm\"\n",
        "plt.rcParams[\"text.color\"] = gris\n",
        "plt.rcParams[\"font.size\"] = 12\n",
        "plt.rcParams[\"xtick.color\"] = gris\n",
        "plt.rcParams[\"ytick.color\"] = gris\n",
        "plt.rcParams[\"axes.labelcolor\"] = gris\n",
        "plt.rcParams[\"axes.edgecolor\"] = gris\n",
        "plt.rcParams[\"axes.spines.right\"] = False\n",
        "plt.rcParams[\"axes.spines.top\"] = False\n"
      ],
      "metadata": {
        "id": "7ztewvgE4xdC"
      },
      "execution_count": 290,
      "outputs": []
    },
    {
      "cell_type": "code",
      "source": [
        "EI=symbols('EI')\n",
        "x = symbols('x')\n",
        "L = symbols('L')\n",
        "q= pi**4 *sin(pi*x)\n",
        "\n",
        "u_e = sin(pi * x)\n",
        "\n",
        "\n",
        "\n"
      ],
      "metadata": {
        "id": "bSl_wUPH456t"
      },
      "execution_count": 291,
      "outputs": []
    },
    {
      "cell_type": "code",
      "source": [
        "def plot_expr(expr, x, titulo, rango=(0, 1), ax=None, linestyle=\"solid\"):\n",
        "    \"\"\"Grafica expresiones de SymPy que dependen de una variable\"\"\"\n",
        "    expr_num = lambdify(x, expr, \"numpy\")\n",
        "    x_num = np.linspace(rango[0], rango[1], 301)\n",
        "    if ax is None:\n",
        "        plt.figure()\n",
        "        ax = plt.gca()\n",
        "    ax.plot(x_num, expr_num(x_num), linestyle=linestyle)\n",
        "    ax.set_title(titulo)\n"
      ],
      "metadata": {
        "id": "3kk6px4E49_2"
      },
      "execution_count": 292,
      "outputs": []
    },
    {
      "cell_type": "code",
      "source": [
        "def funcion_base(x, k):\n",
        "    \"\"\"Elemento k de la base\"\"\"\n",
        "    return x*(x-1)*x**k\n",
        "\n",
        "\n",
        "def funcion_aprox(x, num):\n",
        "\n",
        "    c = symbols('c0:%d'%num)\n",
        "    u_n = sum([c[k]*funcion_base(x, k) for k in range(num)])\n",
        "    return u_n, c\n",
        "\n",
        "\n",
        "def funcional(u, x):\n",
        "    \"\"\"Residual para el problema de interés\"\"\"\n",
        "    return integrate((1/2)*(diff(u, x, 2))**2 - q*u, (x, 0, 1))\n",
        "\n",
        "\n",
        "\n",
        "\n",
        "nterms = 3\n"
      ],
      "metadata": {
        "id": "wV3iaVqQ5A7B"
      },
      "execution_count": 302,
      "outputs": []
    },
    {
      "cell_type": "code",
      "source": [
        "u, c = funcion_aprox(x, nterms)\n",
        "u\n"
      ],
      "metadata": {
        "colab": {
          "base_uri": "https://localhost:8080/",
          "height": 38
        },
        "id": "_zfNZ49n5DRU",
        "outputId": "0395a81f-88a8-4acb-e6f6-7365c5677f81"
      },
      "execution_count": 303,
      "outputs": [
        {
          "output_type": "execute_result",
          "data": {
            "text/plain": [
              "                   2               3        \n",
              "c₀⋅x⋅(x - 1) + c₁⋅x ⋅(x - 1) + c₂⋅x ⋅(x - 1)"
            ],
            "text/latex": "$\\displaystyle c_{0} x \\left(x - 1\\right) + c_{1} x^{2} \\left(x - 1\\right) + c_{2} x^{3} \\left(x - 1\\right)$"
          },
          "metadata": {},
          "execution_count": 303
        }
      ]
    },
    {
      "cell_type": "code",
      "source": [
        "J = expand(funcional(u, x))\n",
        "factor(J)"
      ],
      "metadata": {
        "colab": {
          "base_uri": "https://localhost:8080/",
          "height": 76
        },
        "id": "dcz-Hc4Q5FOd",
        "outputId": "18007c22-8fde-429d-d11f-e76301990542"
      },
      "execution_count": 304,
      "outputs": [
        {
          "output_type": "execute_result",
          "data": {
            "text/plain": [
              "     ⎛                       2                                                \n",
              "48.0⋅⎝0.0416666666666667⋅π⋅c₀  + 0.0416666666666667⋅π⋅c₀⋅c₁ + 0.04166666666666\n",
              "──────────────────────────────────────────────────────────────────────────────\n",
              "                                                                              \n",
              "\n",
              "                                 2                             2              \n",
              "67⋅π⋅c₀⋅c₂ + 0.0833333333333333⋅π ⋅c₀ + 0.0416666666666667⋅π⋅c₁  + 0.083333333\n",
              "──────────────────────────────────────────────────────────────────────────────\n",
              "                                     π                                        \n",
              "\n",
              "                                      2               2               2   ⎞\n",
              "3333333⋅π⋅c₁⋅c₂ + 0.0416666666666667⋅π ⋅c₁ + 0.05⋅π⋅c₂  - c₂ + 0.125⋅π ⋅c₂⎠\n",
              "───────────────────────────────────────────────────────────────────────────\n",
              "                                                                           "
            ],
            "text/latex": "$\\displaystyle \\frac{48.0 \\cdot \\left(0.0416666666666667 \\pi c_{0}^{2} + 0.0416666666666667 \\pi c_{0} c_{1} + 0.0416666666666667 \\pi c_{0} c_{2} + 0.0833333333333333 \\pi^{2} c_{0} + 0.0416666666666667 \\pi c_{1}^{2} + 0.0833333333333333 \\pi c_{1} c_{2} + 0.0416666666666667 \\pi^{2} c_{1} + 0.05 \\pi c_{2}^{2} - 1.0 c_{2} + 0.125 \\pi^{2} c_{2}\\right)}{\\pi}$"
          },
          "metadata": {},
          "execution_count": 304
        }
      ]
    },
    {
      "cell_type": "code",
      "source": [
        "eqs1 = Matrix([funcional(u, x)])\n",
        "eqs1"
      ],
      "metadata": {
        "colab": {
          "base_uri": "https://localhost:8080/",
          "height": 39
        },
        "id": "n93DT37SeCSG",
        "outputId": "03b69d10-c827-4fd0-b4e8-978df87710a8"
      },
      "execution_count": 305,
      "outputs": [
        {
          "output_type": "execute_result",
          "data": {
            "text/plain": [
              "⎡      2                                 2                     2    4 ⎛2⋅c₀   \n",
              "⎢2.0⋅c₀  + 2.0⋅c₀⋅c₁ + 2.0⋅c₀⋅c₂ + 2.0⋅c₁  + 4.0⋅c₁⋅c₂ + 2.4⋅c₂  + π ⋅⎜──── - \n",
              "⎢                                                                     ⎜  3    \n",
              "⎣                                                                     ⎝ π     \n",
              "\n",
              "2⋅c₁   24⋅c₂⎞    4 ⎛  2⋅c₀   4⋅c₁   6⋅c₂   24⋅c₂⎞⎤\n",
              "──── - ─────⎟ - π ⋅⎜- ──── - ──── - ──── + ─────⎟⎥\n",
              "  3       5 ⎟      ⎜    3      3      3       5 ⎟⎥\n",
              " π       π  ⎠      ⎝   π      π      π       π  ⎠⎦"
            ],
            "text/latex": "$\\displaystyle \\left[\\begin{matrix}2.0 c_{0}^{2} + 2.0 c_{0} c_{1} + 2.0 c_{0} c_{2} + 2.0 c_{1}^{2} + 4.0 c_{1} c_{2} + 2.4 c_{2}^{2} + \\pi^{4} \\cdot \\left(\\frac{2 c_{0}}{\\pi^{3}} - \\frac{2 c_{1}}{\\pi^{3}} - \\frac{24 c_{2}}{\\pi^{5}}\\right) - \\pi^{4} \\left(- \\frac{2 c_{0}}{\\pi^{3}} - \\frac{4 c_{1}}{\\pi^{3}} - \\frac{6 c_{2}}{\\pi^{3}} + \\frac{24 c_{2}}{\\pi^{5}}\\right)\\end{matrix}\\right]$"
          },
          "metadata": {},
          "execution_count": 305
        }
      ]
    },
    {
      "cell_type": "code",
      "source": [
        "eqs = Matrix([funcional(u, x)]).jacobian(c)\n",
        "eqs\n"
      ],
      "metadata": {
        "colab": {
          "base_uri": "https://localhost:8080/",
          "height": 39
        },
        "id": "BvHc3qTo5Jxg",
        "outputId": "ee872bc5-bc73-4098-ac41-7cb6d1272161"
      },
      "execution_count": 306,
      "outputs": [
        {
          "output_type": "execute_result",
          "data": {
            "text/plain": [
              "⎡                                                                             \n",
              "⎢4.0⋅c₀ + 2.0⋅c₁ + 2.0⋅c₂ + 4⋅π  2.0⋅c₀ + 4.0⋅c₁ + 4.0⋅c₂ + 2⋅π  2.0⋅c₀ + 4.0⋅\n",
              "⎢                                                                             \n",
              "⎣                                                                             \n",
              "\n",
              "              24    4 ⎛  6    24⎞⎤\n",
              "c₁ + 4.8⋅c₂ - ── - π ⋅⎜- ── + ──⎟⎥\n",
              "              π       ⎜   3    5⎟⎥\n",
              "                      ⎝  π    π ⎠⎦"
            ],
            "text/latex": "$\\displaystyle \\left[\\begin{matrix}4.0 c_{0} + 2.0 c_{1} + 2.0 c_{2} + 4 \\pi & 2.0 c_{0} + 4.0 c_{1} + 4.0 c_{2} + 2 \\pi & 2.0 c_{0} + 4.0 c_{1} + 4.8 c_{2} - \\frac{24}{\\pi} - \\pi^{4} \\left(- \\frac{6}{\\pi^{3}} + \\frac{24}{\\pi^{5}}\\right)\\end{matrix}\\right]$"
          },
          "metadata": {},
          "execution_count": 306
        }
      ]
    },
    {
      "cell_type": "code",
      "source": [
        "sol = solve(eqs, c)\n",
        "sol\n"
      ],
      "metadata": {
        "colab": {
          "base_uri": "https://localhost:8080/",
          "height": 38
        },
        "id": "OMbpk_eH5MEp",
        "outputId": "6e365c03-1518-44aa-a6e3-bc32ef3b5fc8"
      },
      "execution_count": 307,
      "outputs": [
        {
          "output_type": "execute_result",
          "data": {
            "text/plain": [
              "{c₀: -3.14159265358979, c₁: -3.39062990307847, c₂: 3.39062990307847}"
            ],
            "text/latex": "$\\displaystyle \\left\\{ c_{0} : -3.14159265358979, \\  c_{1} : -3.39062990307847, \\  c_{2} : 3.39062990307847\\right\\}$"
          },
          "metadata": {},
          "execution_count": 307
        }
      ]
    },
    {
      "cell_type": "code",
      "source": [
        "u.subs(sol)"
      ],
      "metadata": {
        "colab": {
          "base_uri": "https://localhost:8080/",
          "height": 38
        },
        "id": "yb2rtY145NiR",
        "outputId": "cc806a50-7708-40fa-bbf2-4f5c560c7639"
      },
      "execution_count": 308,
      "outputs": [
        {
          "output_type": "execute_result",
          "data": {
            "text/plain": [
              "                  3                             2                             \n",
              "3.39062990307847⋅x ⋅(x - 1) - 3.39062990307847⋅x ⋅(x - 1) - 3.14159265358979⋅x\n",
              "\n",
              "        \n",
              "⋅(x - 1)"
            ],
            "text/latex": "$\\displaystyle 3.39062990307847 x^{3} \\left(x - 1\\right) - 3.39062990307847 x^{2} \\left(x - 1\\right) - 3.14159265358979 x \\left(x - 1\\right)$"
          },
          "metadata": {},
          "execution_count": 308
        }
      ]
    },
    {
      "cell_type": "code",
      "source": [
        "plt.figure()\n",
        "ax = plt.gca()\n",
        "plot_expr(u_e, x, \"Ritz vs Solución Analítica\", ax=ax)\n",
        "plot_expr(u.subs(sol), x, \"Ritz vs Solución Analítica\", ax=ax, linestyle=\"dashed\")\n",
        "plt.legend([\"Exacta\", \"Ritz\"])\n",
        "plt.show()"
      ],
      "metadata": {
        "colab": {
          "base_uri": "https://localhost:8080/",
          "height": 457
        },
        "id": "Jv7m6utEcVHE",
        "outputId": "e20b10fa-993e-474b-fe48-b008ed6ecf1a"
      },
      "execution_count": 309,
      "outputs": [
        {
          "output_type": "display_data",
          "data": {
            "text/plain": [
              "<Figure size 640x480 with 1 Axes>"
            ],
            "image/png": "[encoded data removed]"
          },
          "metadata": {}
        }
      ]
    },
    {
      "cell_type": "code",
      "source": [
        "err = integrate((u_e - u.subs(sol))**2, (x, 0, 1))/integrate(u_e**2, (x, 0, 1))"
      ],
      "metadata": {
        "id": "MWAWWT9lI7zC"
      },
      "execution_count": null,
      "outputs": []
    },
    {
      "cell_type": "code",
      "source": [
        "N(sqrt(err)*100)"
      ],
      "metadata": {
        "id": "tOGEv23eI8Pu"
      },
      "execution_count": null,
      "outputs": []
    }
  ]
}